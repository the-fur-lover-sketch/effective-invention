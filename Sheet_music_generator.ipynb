{
  "nbformat": 4,
  "nbformat_minor": 0,
  "metadata": {
    "colab": {
      "provenance": [],
      "authorship_tag": "ABX9TyNbcGxW8i/p+sBzZgVqyPuh",
      "include_colab_link": true
    },
    "kernelspec": {
      "name": "python3",
      "display_name": "Python 3"
    },
    "language_info": {
      "name": "python"
    }
  },
  "cells": [
    {
      "cell_type": "markdown",
      "metadata": {
        "id": "view-in-github",
        "colab_type": "text"
      },
      "source": [
        "<a href=\"https://colab.research.google.com/github/the-fur-lover-sketch/effective-invention/blob/main/Sheet_music_generator.ipynb\" target=\"_parent\"><img src=\"https://colab.research.google.com/assets/colab-badge.svg\" alt=\"Open In Colab\"/></a>"
      ]
    },
    {
      "cell_type": "code",
      "source": [
        "\n",
        "# ===== Variable suffix (番号を個別に指定できる) =====\n",
        "t_idx  = 1\n",
        "f_idx  = 1\n",
        "ds_idx = 1\n",
        "di_idx = 1\n",
        "sp_idx = 1\n",
        "\n",
        "def t_var():  return f\"t_{t_idx}\"\n",
        "def f_var():  return f\"f_{f_idx}\"\n",
        "def ds_var(): return f\"ds_{ds_idx}\"\n",
        "def di_var(): return f\"di_{di_idx}\"\n",
        "def sp_var(): return f\"sp_{sp_idx}\"\n",
        "\n",
        "# ===== Score Data =====\n",
        "score = []\n",
        "t_counter = 0  # tの係数カウンタ\n",
        "\n",
        "print(\"入力例: [Enter] → 次の音,  2 Enter → fの係数2,  2 4 Enter → 和音 [2,4]\")\n",
        "print(\"番号変更:  t=2 f=3 ds=2 di=5 sp=4 のように入力するとそれぞれ切り替え\")\n",
        "\n",
        "while True:\n",
        "    user_in = input(\"> \").strip()\n",
        "\n",
        "    # ===== 番号変更コマンド =====\n",
        "    if \"=\" in user_in:\n",
        "        try:\n",
        "            for token in user_in.split():\n",
        "                name, val = token.split(\"=\")\n",
        "                val = int(val)\n",
        "                if   name == \"t\":   t_idx  = val\n",
        "                elif name == \"f\":   f_idx  = val\n",
        "                elif name == \"ds\":  ds_idx = val\n",
        "                elif name == \"di\":  di_idx = val\n",
        "                elif name == \"sp\":  sp_idx = val\n",
        "            print(f\"番号変更: t={t_idx}, f={f_idx}, ds={ds_idx}, di={di_idx}, sp={sp_idx}\")\n",
        "        except:\n",
        "            print(\"番号変更は t=2 f=3 ds=2 di=5 sp=4 のように入力してください。\")\n",
        "        continue\n",
        "\n",
        "    # ===== 音符追加 =====\n",
        "    if user_in == \"\":\n",
        "        # Enterのみ → tカウンタを+1\n",
        "        t_counter += 1\n",
        "        entry = (f\"{t_var()}*{t_counter} + {sp_var()}\",\n",
        "                 f\"{f_var()}*1\",\n",
        "                 f\"{ds_var()}*{t_var()} + {di_var()}\",\n",
        "                 '\"square\"')\n",
        "        score.append(entry)\n",
        "\n",
        "    else:\n",
        "        try:\n",
        "            nums = list(map(int, user_in.split()))\n",
        "            t_counter += 1\n",
        "            if len(nums) == 1:\n",
        "                # 単音\n",
        "                entry = (f\"{t_var()}*{t_counter} + {sp_var()}\",\n",
        "                         f\"{f_var()}*{nums[0]}\",\n",
        "                         f\"{ds_var()}*{t_var()} + {di_var()}\",\n",
        "                         '\"square\"')\n",
        "            else:\n",
        "                # 和音\n",
        "                factors = [f\"{f_var()}*{n}\" for n in nums]\n",
        "                entry = (f\"{t_var()}*{t_counter} + {sp_var()}\",\n",
        "                         f\"[{','.join(factors)}]\",\n",
        "                         f\"{ds_var()}*{t_var()} + {di_var()}\",\n",
        "                         '\"square\"')\n",
        "            score.append(entry)\n",
        "        except ValueError:\n",
        "            print(\"数値を半角空白区切りで入力してください。\")\n",
        "\n",
        "    # === 全スコアを表示 ===\n",
        "    print(\"\\n=== Current Score ===\")\n",
        "    for e in score:\n",
        "        print(\" , \".join(e))\n",
        "    print(\"=====================\\n\")\n",
        "\n",
        "\n",
        "\n"
      ],
      "metadata": {
        "id": "zXlzQ-mQIBK1"
      },
      "execution_count": null,
      "outputs": []
    }
  ]
}